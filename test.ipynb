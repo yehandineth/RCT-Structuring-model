{
 "cells": [
  {
   "cell_type": "markdown",
   "metadata": {},
   "source": [
    "# Training"
   ]
  },
  {
   "cell_type": "code",
   "execution_count": 1,
   "metadata": {},
   "outputs": [
    {
     "name": "stderr",
     "output_type": "stream",
     "text": [
      "2024-12-13 13:13:05.980110: I tensorflow/core/util/port.cc:153] oneDNN custom operations are on. You may see slightly different numerical results due to floating-point round-off errors from different computation orders. To turn them off, set the environment variable `TF_ENABLE_ONEDNN_OPTS=0`.\n",
      "2024-12-13 13:13:06.331726: E external/local_xla/xla/stream_executor/cuda/cuda_fft.cc:477] Unable to register cuFFT factory: Attempting to register factory for plugin cuFFT when one has already been registered\n",
      "WARNING: All log messages before absl::InitializeLog() is called are written to STDERR\n",
      "E0000 00:00:1734075786.473273  163406 cuda_dnn.cc:8310] Unable to register cuDNN factory: Attempting to register factory for plugin cuDNN when one has already been registered\n",
      "E0000 00:00:1734075786.520339  163406 cuda_blas.cc:1418] Unable to register cuBLAS factory: Attempting to register factory for plugin cuBLAS when one has already been registered\n",
      "2024-12-13 13:13:06.893805: I tensorflow/core/platform/cpu_feature_guard.cc:210] This TensorFlow binary is optimized to use available CPU instructions in performance-critical operations.\n",
      "To enable the following instructions: AVX2 AVX_VNNI FMA, in other operations, rebuild TensorFlow with the appropriate compiler flags.\n"
     ]
    }
   ],
   "source": [
    "from config.config import *\n",
    "import tf_keras as keras\n",
    "import tensorflow as tf\n",
    "import pandas as pd\n",
    "import numpy as np"
   ]
  },
  {
   "cell_type": "code",
   "execution_count": null,
   "metadata": {},
   "outputs": [],
   "source": [
    "from processing.preprocessing import Dataset\n",
    "from training.model import create_model, plot_model"
   ]
  },
  {
   "cell_type": "code",
   "execution_count": 3,
   "metadata": {},
   "outputs": [
    {
     "name": "stderr",
     "output_type": "stream",
     "text": [
      "2024-12-13 09:22:48.875563: I tensorflow/core/framework/local_rendezvous.cc:405] Local rendezvous is aborting with status: OUT_OF_RANGE: End of sequence\n",
      "\t [[{{node IteratorGetNext}}]]\n",
      "2024-12-13 09:22:48.875611: I tensorflow/core/framework/local_rendezvous.cc:405] Local rendezvous is aborting with status: OUT_OF_RANGE: End of sequence\n",
      "\t [[{{node IteratorGetNext}}]]\n",
      "\t [[None_lookup_table_find/LookupTableFindV2/_4]]\n",
      "2024-12-13 09:22:48.875629: I tensorflow/core/framework/local_rendezvous.cc:424] Local rendezvous recv item cancelled. Key hash: 15068800475560787303\n",
      "2024-12-13 09:22:48.875651: I tensorflow/core/framework/local_rendezvous.cc:424] Local rendezvous recv item cancelled. Key hash: 1143512306394923478\n",
      "2024-12-13 09:22:48.875657: I tensorflow/core/framework/local_rendezvous.cc:424] Local rendezvous recv item cancelled. Key hash: 8693832692366513368\n",
      "2024-12-13 09:22:59.158299: I tensorflow/core/framework/local_rendezvous.cc:405] Local rendezvous is aborting with status: OUT_OF_RANGE: End of sequence\n",
      "\t [[{{node IteratorGetNext}}]]\n",
      "\t [[None_lookup_table_find/LookupTableFindV2/_4]]\n",
      "2024-12-13 09:22:59.158360: I tensorflow/core/framework/local_rendezvous.cc:424] Local rendezvous recv item cancelled. Key hash: 15068800475560787303\n",
      "2024-12-13 09:22:59.158385: I tensorflow/core/framework/local_rendezvous.cc:424] Local rendezvous recv item cancelled. Key hash: 1143512306394923478\n",
      "2024-12-13 09:22:59.158391: I tensorflow/core/framework/local_rendezvous.cc:424] Local rendezvous recv item cancelled. Key hash: 8693832692366513368\n"
     ]
    }
   ],
   "source": [
    "train_dataset = Dataset.create_training_pipeline(DF)\n",
    "val_dataset = Dataset.create_validation_pipeline(DF)"
   ]
  },
  {
   "cell_type": "code",
   "execution_count": 4,
   "metadata": {},
   "outputs": [
    {
     "name": "stdout",
     "output_type": "stream",
     "text": [
      "INFO:tensorflow:Mixed precision compatibility check (mixed_float16): OK\n",
      "Your GPU will likely run quickly with dtype policy mixed_float16 as it has compute capability of at least 7.0. Your GPU: NVIDIA GeForce RTX 4050 Laptop GPU, compute capability 8.9\n"
     ]
    }
   ],
   "source": [
    "keras.mixed_precision.set_global_policy('mixed_float16')"
   ]
  },
  {
   "cell_type": "code",
   "execution_count": 3,
   "metadata": {},
   "outputs": [
    {
     "name": "stderr",
     "output_type": "stream",
     "text": [
      "I0000 00:00:1734075801.271335  163406 gpu_device.cc:2022] Created device /job:localhost/replica:0/task:0/device:GPU:0 with 3539 MB memory:  -> device: 0, name: NVIDIA GeForce RTX 4050 Laptop GPU, pci bus id: 0000:01:00.0, compute capability: 8.9\n"
     ]
    }
   ],
   "source": [
    "model = create_model()"
   ]
  },
  {
   "cell_type": "code",
   "execution_count": null,
   "metadata": {},
   "outputs": [
    {
     "name": "stdout",
     "output_type": "stream",
     "text": [
      "Epoch 1/3\n",
      "562/562 [==============================] - ETA: 0s - loss: 1.1373 - accuracy: 0.6819\n",
      "Epoch 1: val_accuracy improved from -inf to 0.81117, saving model to /home/yehand/.vscode-server/projects/NLP_Learning/RCTabstractmodel/training/checkpoints/model_2.weights.h5\n",
      "562/562 [==============================] - 72s 116ms/step - loss: 1.1373 - accuracy: 0.6819 - val_loss: 0.9649 - val_accuracy: 0.8112\n",
      "Epoch 2/3\n",
      "562/562 [==============================] - ETA: 0s - loss: 0.9061 - accuracy: 0.8549\n",
      "Epoch 2: val_accuracy did not improve from 0.81117\n",
      "562/562 [==============================] - 40s 72ms/step - loss: 0.9061 - accuracy: 0.8549 - val_loss: 0.9585 - val_accuracy: 0.8072\n",
      "Epoch 3/3\n",
      "562/562 [==============================] - ETA: 0s - loss: 0.8341 - accuracy: 0.9084\n",
      "Epoch 3: val_accuracy did not improve from 0.81117\n",
      "562/562 [==============================] - 41s 73ms/step - loss: 0.8341 - accuracy: 0.9084 - val_loss: 0.9854 - val_accuracy: 0.7955\n"
     ]
    }
   ],
   "source": [
    "history = model.fit(\n",
    "    train_dataset.pipeline.prefetch(tf.data.AUTOTUNE),\n",
    "    validation_data=val_dataset.pipeline.prefetch(tf.data.AUTOTUNE),\n",
    "    initial_epoch=0,\n",
    "    epochs=3,\n",
    "    shuffle=False,\n",
    "    batch_size= BATCH_SIZE,\n",
    "    callbacks=[\n",
    "        keras.callbacks.ModelCheckpoint(\n",
    "            filepath=CHECKPOINTS_DIR.joinpath(f'{model.name}.weights.h5'), \n",
    "            save_best_only=True, \n",
    "            save_weights_only=True, \n",
    "            monitor='val_accuracy', \n",
    "            verbose=1\n",
    "        )\n",
    "    ],\n",
    ")"
   ]
  },
  {
   "cell_type": "code",
   "execution_count": 13,
   "metadata": {},
   "outputs": [],
   "source": [
    "model.save(SERIALIZATION_DIR.joinpath('model_test.keras'))"
   ]
  },
  {
   "cell_type": "code",
   "execution_count": null,
   "metadata": {},
   "outputs": [],
   "source": [
    "name = 'model_test'\n",
    "\n",
    "test_dataset = Dataset.create_test_pipeline(DF)\n",
    "keras.mixed_precision.set_global_policy('mixed_float16')\n",
    "\n",
    "lmodel = keras.models.load_model(SERIALIZATION_DIR.joinpath(f'{name}.keras'))\n",
    "\n",
    "lpredictions = model.predict(test_dataset)"
   ]
  }
 ],
 "metadata": {
  "kernelspec": {
   "display_name": "tfbootcamp",
   "language": "python",
   "name": "python3"
  },
  "language_info": {
   "codemirror_mode": {
    "name": "ipython",
    "version": 3
   },
   "file_extension": ".py",
   "mimetype": "text/x-python",
   "name": "python",
   "nbconvert_exporter": "python",
   "pygments_lexer": "ipython3",
   "version": "3.12.7"
  }
 },
 "nbformat": 4,
 "nbformat_minor": 2
}

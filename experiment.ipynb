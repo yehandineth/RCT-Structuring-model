{
 "cells": [
  {
   "cell_type": "code",
   "execution_count": 1,
   "metadata": {},
   "outputs": [
    {
     "name": "stdout",
     "output_type": "stream",
     "text": [
      "WARNING:tensorflow:From c:\\Users\\ydine\\anaconda3\\Lib\\site-packages\\tf_keras\\src\\losses.py:2976: The name tf.losses.sparse_softmax_cross_entropy is deprecated. Please use tf.compat.v1.losses.sparse_softmax_cross_entropy instead.\n",
      "\n"
     ]
    }
   ],
   "source": [
    "import tf_keras as keras\n",
    "from config.config import *"
   ]
  },
  {
   "cell_type": "code",
   "execution_count": 2,
   "metadata": {},
   "outputs": [],
   "source": [
    "from training.model import create_model\n"
   ]
  },
  {
   "cell_type": "code",
   "execution_count": 8,
   "metadata": {},
   "outputs": [],
   "source": [
    "from processing.preprocessing import Abstract"
   ]
  },
  {
   "cell_type": "code",
   "execution_count": 3,
   "metadata": {},
   "outputs": [
    {
     "name": "stdout",
     "output_type": "stream",
     "text": [
      "WARNING:tensorflow:From c:\\Users\\ydine\\anaconda3\\Lib\\site-packages\\tf_keras\\src\\backend.py:1400: The name tf.executing_eagerly_outside_functions is deprecated. Please use tf.compat.v1.executing_eagerly_outside_functions instead.\n",
      "\n",
      "WARNING:tensorflow:Mixed precision compatibility check (mixed_float16): WARNING\n",
      "The dtype policy mixed_float16 may run slowly because this machine does not have a GPU. Only Nvidia GPUs with compute capability of at least 7.0 run quickly with mixed_float16.\n",
      "If you will use compatible GPU(s) not attached to this host, e.g. by running a multi-worker model, you can ignore this warning. This message will only be logged once\n",
      "WARNING:tensorflow:From c:\\Users\\ydine\\anaconda3\\Lib\\site-packages\\tf_keras\\src\\backend.py:6644: The name tf.nn.max_pool is deprecated. Please use tf.nn.max_pool2d instead.\n",
      "\n"
     ]
    }
   ],
   "source": [
    "model = keras.models.load_model(\n",
    "        filepath=SERIALIZATION_DIR.joinpath(f'{NAME}.keras')\n",
    "        )\n"
   ]
  },
  {
   "cell_type": "code",
   "execution_count": 4,
   "metadata": {},
   "outputs": [],
   "source": [
    "from classify import *"
   ]
  },
  {
   "cell_type": "code",
   "execution_count": 5,
   "metadata": {},
   "outputs": [],
   "source": [
    "model.save_weights(\n",
    "        filepath=SERIALIZATION_DIR.joinpath(f'{NAME}.weights.h5'),\n",
    ")"
   ]
  },
  {
   "cell_type": "code",
   "execution_count": 6,
   "metadata": {},
   "outputs": [],
   "source": [
    "loaded = create_model(\n",
    ")"
   ]
  },
  {
   "cell_type": "code",
   "execution_count": 7,
   "metadata": {},
   "outputs": [
    {
     "name": "stderr",
     "output_type": "stream",
     "text": [
      "WARNING:absl:Skipping variable loading for optimizer 'Adam', because it has 1 variables whereas the saved optimizer has 45 variables. \n"
     ]
    }
   ],
   "source": [
    "loaded.load_weights(SERIALIZATION_DIR.joinpath(f'{NAME}.weights.h5'))"
   ]
  },
  {
   "cell_type": "code",
   "execution_count": 20,
   "metadata": {},
   "outputs": [
    {
     "name": "stdout",
     "output_type": "stream",
     "text": [
      "c:\\Users\\ydine\\anaconda3\\Lib\\site-packages\\en_core_web_sm\\en_core_web_sm-3.8.0\\config.cfg\n"
     ]
    }
   ],
   "source": [
    "pipe = Abstract(\"The dtype policy mixed_float16 may run slowly because this machine does not have a GPU. Only Nvidia GPUs with compute capability of at least 7.0 run quickly with mixed_float16.If you will use compatible GPU(s) not attached to this host, e.g. by running a multi-worker model, you can ignore this warning. This message will only be logged once\")"
   ]
  },
  {
   "cell_type": "code",
   "execution_count": 13,
   "metadata": {},
   "outputs": [
    {
     "data": {
      "text/plain": [
       "[({'text': array([[    2,     1,  2614,     1,    91,  5111,  7446,   542,    23,\n",
       "            9386,   711,    31,    99,     8,     1,     0,     0,     0,\n",
       "               0,     0,     0,     0,     0,     0,     0,     0,     0,\n",
       "               0,     0,     0,     0,     0,     0,     0,     0,     0,\n",
       "               0,     0,     0,     0,     0,     0,     0,     0,     0,\n",
       "               0,     0,     0,     0,     0,     0,     0,     0,     0,\n",
       "               0,     0],\n",
       "          [  192,     1,     1,     7, 18994,  8134,     4,    15,   322,\n",
       "            5111,  5883,     7,     1, 10096,    95,    87, 11686,     1,\n",
       "              31,  7936,     6,    23,  8690,  1268,    22,  3650,     8,\n",
       "               1,   314, 10096,   171, 20442,    23, 10106,     0,     0,\n",
       "               0,     0,     0,     0,     0,     0,     0,     0,     0,\n",
       "               0,     0,     0,     0,     0,     0,     0,     0,     0,\n",
       "               0,     0],\n",
       "          [   23,  2411,    95,   192,    36, 14798,   439,     0,     0,\n",
       "               0,     0,     0,     0,     0,     0,     0,     0,     0,\n",
       "               0,     0,     0,     0,     0,     0,     0,     0,     0,\n",
       "               0,     0,     0,     0,     0,     0,     0,     0,     0,\n",
       "               0,     0,     0,     0,     0,     0,     0,     0,     0,\n",
       "               0,     0,     0,     0,     0,     0,     0,     0,     0,\n",
       "               0,     0]], dtype=int64),\n",
       "   'chars': array([[ 3, 13,  2, 10,  3, 19, 14,  2, 14,  7, 12,  4, 11, 19, 15,  4,\n",
       "           24,  2, 10, 17, 12,  7,  5,  3, 15,  5, 19,  8, 16,  6,  9, 12,\n",
       "            7, 20, 12, 19, 22,  2, 11,  5, 16,  9,  2,  3, 13,  4,  9, 15,\n",
       "            5, 11, 13,  4,  6,  2, 10,  7,  2,  9,  6,  7,  3, 13,  5, 21,\n",
       "            2,  5, 18, 14, 16,  0,  0,  0,  0,  0,  0,  0,  0,  0,  0,  0,\n",
       "            0,  0,  0,  0,  0,  0,  0,  0,  0,  0,  0,  0,  0,  0,  0,  0,\n",
       "            0,  0,  0,  0,  0,  0,  0,  0,  0,  0,  0,  0,  0,  0,  0,  0,\n",
       "            0,  0,  0,  0,  0,  0,  0,  0,  0,  0,  0,  0,  0,  0,  0,  0,\n",
       "            0,  0,  0,  0,  0,  0,  0,  0,  0,  0,  0,  0,  0,  0,  0,  0,\n",
       "            0,  0,  0,  0,  0,  0,  0,  0,  0,  0,  0,  0,  0,  0,  0,  0,\n",
       "            0,  0,  0,  0,  0,  0,  0,  0,  0,  0,  0,  0,  0,  0,  0,  0,\n",
       "            0,  0,  0,  0,  0,  0,  0,  0,  0,  0,  0,  0,  0,  0,  0,  0,\n",
       "            0,  0,  0,  0,  0,  0,  0,  0,  0,  0,  0,  0,  0,  0,  0,  0,\n",
       "            0,  0,  0,  0,  0,  0,  0,  0,  0,  0,  0,  0,  0,  0,  0,  0,\n",
       "            0,  0,  0,  0,  0,  0,  0,  0,  0,  0,  0,  0,  0,  0,  0,  0,\n",
       "            0,  0,  0,  0,  0,  0,  0,  0,  0,  0,  0,  0,  0,  0,  0,  0,\n",
       "            0,  0,  0,  0,  0,  0,  0,  0,  0,  0,  0,  0,  0,  0,  0,  0,\n",
       "            0,  0,  0,  0,  0,  0,  0,  0,  0,  0,  0,  0,  0,  0,  0,  0,\n",
       "            0,  0,  0,  0,  0,  0,  0,  0],\n",
       "          [ 7,  6, 12, 19,  6, 21,  4, 10,  4,  5, 18, 14, 16,  9, 20,  4,\n",
       "            3, 13, 11,  7, 15, 14, 16,  3,  2, 11,  5, 14,  5, 22,  4, 12,\n",
       "            4,  3, 19,  7, 17,  5,  3, 12,  2,  5,  9,  3,  8, 16,  6, 26,\n",
       "           16,  4, 11, 23, 12, 19, 20,  4,  3, 13, 15,  4, 24,  2, 10, 17,\n",
       "           12,  7,  5,  3,  4, 17, 19,  7, 16, 20,  4, 12, 12, 16,  9,  2,\n",
       "           11,  7, 15, 14,  5,  3,  4, 22, 12,  2, 18, 14, 16,  9,  6,  7,\n",
       "            3,  5,  3,  3,  5, 11, 13,  2, 10,  3,  7,  3, 13,  4,  9, 13,\n",
       "            7,  9,  3,  2, 18, 22, 19,  8, 16,  6,  6,  4,  6, 18,  5, 15,\n",
       "           16, 12,  3,  4, 20,  7,  8, 23,  2,  8, 15,  7, 10,  2, 12, 19,\n",
       "            7, 16, 11,  5,  6,  4, 18,  6,  7,  8,  2,  3, 13,  4,  9, 20,\n",
       "            5,  8,  6,  4,  6, 18,  0,  0,  0,  0,  0,  0,  0,  0,  0,  0,\n",
       "            0,  0,  0,  0,  0,  0,  0,  0,  0,  0,  0,  0,  0,  0,  0,  0,\n",
       "            0,  0,  0,  0,  0,  0,  0,  0,  0,  0,  0,  0,  0,  0,  0,  0,\n",
       "            0,  0,  0,  0,  0,  0,  0,  0,  0,  0,  0,  0,  0,  0,  0,  0,\n",
       "            0,  0,  0,  0,  0,  0,  0,  0,  0,  0,  0,  0,  0,  0,  0,  0,\n",
       "            0,  0,  0,  0,  0,  0,  0,  0,  0,  0,  0,  0,  0,  0,  0,  0,\n",
       "            0,  0,  0,  0,  0,  0,  0,  0,  0,  0,  0,  0,  0,  0,  0,  0,\n",
       "            0,  0,  0,  0,  0,  0,  0,  0,  0,  0,  0,  0,  0,  0,  0,  0,\n",
       "            0,  0,  0,  0,  0,  0,  0,  0],\n",
       "          [ 3, 13,  4,  9, 15,  2,  9,  9,  5, 18,  2, 20,  4, 12, 12,  7,\n",
       "            6, 12, 19, 22,  2, 12,  7, 18, 18,  2, 10,  7,  6, 11,  2,  0,\n",
       "            0,  0,  0,  0,  0,  0,  0,  0,  0,  0,  0,  0,  0,  0,  0,  0,\n",
       "            0,  0,  0,  0,  0,  0,  0,  0,  0,  0,  0,  0,  0,  0,  0,  0,\n",
       "            0,  0,  0,  0,  0,  0,  0,  0,  0,  0,  0,  0,  0,  0,  0,  0,\n",
       "            0,  0,  0,  0,  0,  0,  0,  0,  0,  0,  0,  0,  0,  0,  0,  0,\n",
       "            0,  0,  0,  0,  0,  0,  0,  0,  0,  0,  0,  0,  0,  0,  0,  0,\n",
       "            0,  0,  0,  0,  0,  0,  0,  0,  0,  0,  0,  0,  0,  0,  0,  0,\n",
       "            0,  0,  0,  0,  0,  0,  0,  0,  0,  0,  0,  0,  0,  0,  0,  0,\n",
       "            0,  0,  0,  0,  0,  0,  0,  0,  0,  0,  0,  0,  0,  0,  0,  0,\n",
       "            0,  0,  0,  0,  0,  0,  0,  0,  0,  0,  0,  0,  0,  0,  0,  0,\n",
       "            0,  0,  0,  0,  0,  0,  0,  0,  0,  0,  0,  0,  0,  0,  0,  0,\n",
       "            0,  0,  0,  0,  0,  0,  0,  0,  0,  0,  0,  0,  0,  0,  0,  0,\n",
       "            0,  0,  0,  0,  0,  0,  0,  0,  0,  0,  0,  0,  0,  0,  0,  0,\n",
       "            0,  0,  0,  0,  0,  0,  0,  0,  0,  0,  0,  0,  0,  0,  0,  0,\n",
       "            0,  0,  0,  0,  0,  0,  0,  0,  0,  0,  0,  0,  0,  0,  0,  0,\n",
       "            0,  0,  0,  0,  0,  0,  0,  0,  0,  0,  0,  0,  0,  0,  0,  0,\n",
       "            0,  0,  0,  0,  0,  0,  0,  0,  0,  0,  0,  0,  0,  0,  0,  0,\n",
       "            0,  0,  0,  0,  0,  0,  0,  0]], dtype=int64),\n",
       "   'line_of': array([0.        , 0.33333333, 0.66666667])},\n",
       "  array([[0., 0., 0., 0., 0.],\n",
       "         [0., 0., 0., 0., 0.],\n",
       "         [0., 0., 0., 0., 0.]], dtype=float32))]"
      ]
     },
     "execution_count": 13,
     "metadata": {},
     "output_type": "execute_result"
    }
   ],
   "source": [
    "[x for x in pipe.pipeline.as_numpy_iterator()]"
   ]
  },
  {
   "cell_type": "code",
   "execution_count": 41,
   "metadata": {},
   "outputs": [],
   "source": [
    "keras.mixed_precision.set_global_policy('mixed_float16')"
   ]
  },
  {
   "cell_type": "code",
   "execution_count": 42,
   "metadata": {},
   "outputs": [
    {
     "name": "stdout",
     "output_type": "stream",
     "text": [
      "1/1 [==============================] - 0s 220ms/step\n"
     ]
    }
   ],
   "source": [
    "a = model.predict(pipe.pipeline)"
   ]
  },
  {
   "cell_type": "code",
   "execution_count": 43,
   "metadata": {},
   "outputs": [
    {
     "name": "stdout",
     "output_type": "stream",
     "text": [
      "1/1 [==============================] - 0s 217ms/step\n"
     ]
    }
   ],
   "source": [
    "b = loaded.predict(pipe.pipeline)"
   ]
  },
  {
   "cell_type": "code",
   "execution_count": 27,
   "metadata": {},
   "outputs": [],
   "source": [
    "import numpy as np\n"
   ]
  },
  {
   "cell_type": "code",
   "execution_count": 44,
   "metadata": {},
   "outputs": [
    {
     "data": {
      "text/plain": [
       "(dict, dict)"
      ]
     },
     "execution_count": 44,
     "metadata": {},
     "output_type": "execute_result"
    }
   ],
   "source": [
    "type(a), type(b)"
   ]
  },
  {
   "cell_type": "code",
   "execution_count": 47,
   "metadata": {},
   "outputs": [
    {
     "data": {
      "text/plain": [
       "({'outputs': array([[0.36753008, 0.29280752, 0.09998533, 0.17419603, 0.06548106],\n",
       "         [0.32696685, 0.26842278, 0.13552818, 0.18551926, 0.08356292],\n",
       "         [0.07927272, 0.2118353 , 0.2597769 , 0.0812242 , 0.36789086]],\n",
       "        dtype=float32)},\n",
       " {'outputs': array([[0.36750904, 0.29282495, 0.10003082, 0.17419335, 0.06544185],\n",
       "         [0.3269514 , 0.26838535, 0.13562976, 0.18547444, 0.08355907],\n",
       "         [0.07928838, 0.21177268, 0.25984967, 0.08120829, 0.367881  ]],\n",
       "        dtype=float32)})"
      ]
     },
     "execution_count": 47,
     "metadata": {},
     "output_type": "execute_result"
    }
   ],
   "source": [
    "b,a"
   ]
  },
  {
   "cell_type": "code",
   "execution_count": 52,
   "metadata": {},
   "outputs": [
    {
     "data": {
      "text/plain": [
       "array([[False, False, False, False, False],\n",
       "       [False, False, False, False, False],\n",
       "       [False, False, False, False, False]])"
      ]
     },
     "execution_count": 52,
     "metadata": {},
     "output_type": "execute_result"
    }
   ],
   "source": [
    "np.isclose(a['outputs'],b['outputs'], atol=1e-7)"
   ]
  },
  {
   "cell_type": "code",
   "execution_count": null,
   "metadata": {},
   "outputs": [],
   "source": []
  }
 ],
 "metadata": {
  "kernelspec": {
   "display_name": "base",
   "language": "python",
   "name": "python3"
  },
  "language_info": {
   "codemirror_mode": {
    "name": "ipython",
    "version": 3
   },
   "file_extension": ".py",
   "mimetype": "text/x-python",
   "name": "python",
   "nbconvert_exporter": "python",
   "pygments_lexer": "ipython3",
   "version": "3.12.3"
  }
 },
 "nbformat": 4,
 "nbformat_minor": 2
}
